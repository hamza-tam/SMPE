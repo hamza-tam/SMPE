{
 "cells": [
  {
   "cell_type": "markdown",
   "metadata": {},
   "source": [
    "# First Names Homework"
   ]
  },
  {
   "cell_type": "markdown",
   "metadata": {},
   "source": [
    "## Loading and preparing the data"
   ]
  },
  {
   "cell_type": "markdown",
   "metadata": {},
   "source": [
    "First we need to download the dataset"
   ]
  },
  {
   "cell_type": "code",
   "execution_count": 1,
   "metadata": {},
   "outputs": [],
   "source": [
    "file = \"dpt2019_txt.zip\"\n",
    "if(!file.exists(file)){\n",
    "  download.file(\"https://www.insee.fr/fr/statistiques/fichier/2540004/dpt2019_csv.zip\",\n",
    "\tdestfile=file)\n",
    "}\n",
    "unzip(file)"
   ]
  },
  {
   "cell_type": "markdown",
   "metadata": {},
   "source": [
    "Then we build the file from the dataframe"
   ]
  },
  {
   "cell_type": "code",
   "execution_count": 2,
   "metadata": {},
   "outputs": [
    {
     "name": "stderr",
     "output_type": "stream",
     "text": [
      "Registered S3 methods overwritten by 'ggplot2':\n",
      "  method         from \n",
      "  [.quosures     rlang\n",
      "  c.quosures     rlang\n",
      "  print.quosures rlang\n",
      "\n",
      "Registered S3 method overwritten by 'rvest':\n",
      "  method            from\n",
      "  read_xml.response xml2\n",
      "\n",
      "── \u001b[1mAttaching packages\u001b[22m ─────────────────────────────────────── tidyverse 1.2.1 ──\n",
      "\n",
      "\u001b[32m✔\u001b[39m \u001b[34mggplot2\u001b[39m 3.1.1       \u001b[32m✔\u001b[39m \u001b[34mpurrr  \u001b[39m 0.3.2  \n",
      "\u001b[32m✔\u001b[39m \u001b[34mtibble \u001b[39m 2.1.1       \u001b[32m✔\u001b[39m \u001b[34mdplyr  \u001b[39m 0.8.0.\u001b[31m1\u001b[39m\n",
      "\u001b[32m✔\u001b[39m \u001b[34mtidyr  \u001b[39m 0.8.3       \u001b[32m✔\u001b[39m \u001b[34mstringr\u001b[39m 1.4.0  \n",
      "\u001b[32m✔\u001b[39m \u001b[34mreadr  \u001b[39m 1.3.1       \u001b[32m✔\u001b[39m \u001b[34mforcats\u001b[39m 0.4.0  \n",
      "\n",
      "── \u001b[1mConflicts\u001b[22m ────────────────────────────────────────── tidyverse_conflicts() ──\n",
      "\u001b[31m✖\u001b[39m \u001b[34mdplyr\u001b[39m::\u001b[32mfilter()\u001b[39m masks \u001b[34mstats\u001b[39m::filter()\n",
      "\u001b[31m✖\u001b[39m \u001b[34mdplyr\u001b[39m::\u001b[32mlag()\u001b[39m    masks \u001b[34mstats\u001b[39m::lag()\n",
      "\n",
      "Parsed with column specification:\n",
      "cols(\n",
      "  sexe = \u001b[32mcol_double()\u001b[39m,\n",
      "  preusuel = \u001b[31mcol_character()\u001b[39m,\n",
      "  annais = \u001b[32mcol_double()\u001b[39m,\n",
      "  dpt = \u001b[31mcol_character()\u001b[39m,\n",
      "  nombre = \u001b[32mcol_double()\u001b[39m\n",
      ")\n",
      "\n",
      "Warning message:\n",
      "“36445 parsing failures.\n",
      "  row    col expected actual          file\n",
      "10781 annais a double   XXXX 'dpt2019.csv'\n",
      "10782 annais a double   XXXX 'dpt2019.csv'\n",
      "10783 annais a double   XXXX 'dpt2019.csv'\n",
      "10784 annais a double   XXXX 'dpt2019.csv'\n",
      "10787 annais a double   XXXX 'dpt2019.csv'\n",
      "..... ...... ........ ...... .............\n",
      "See problems(...) for more details.\n",
      "”\n"
     ]
    }
   ],
   "source": [
    "library(tidyverse)\n",
    "library(ggplot2)\n",
    "FirstNames <- read_delim(\"dpt2019.csv\",delim=\";\");"
   ]
  },
  {
   "cell_type": "markdown",
   "metadata": {},
   "source": [
    "Now that we have the dataset we need to explore it to have an idea about the data it contains"
   ]
  },
  {
   "cell_type": "code",
   "execution_count": 3,
   "metadata": {},
   "outputs": [
    {
     "data": {
      "text/html": [
       "3676682"
      ],
      "text/latex": [
       "3676682"
      ],
      "text/markdown": [
       "3676682"
      ],
      "text/plain": [
       "[1] 3676682"
      ]
     },
     "metadata": {},
     "output_type": "display_data"
    },
    {
     "data": {
      "text/html": [
       "<style>\n",
       ".list-inline {list-style: none; margin:0; padding: 0}\n",
       ".list-inline>li {display: inline-block}\n",
       ".list-inline>li:not(:last-child)::after {content: \"\\00b7\"; padding: 0 .5ex}\n",
       "</style>\n",
       "<ol class=list-inline><li>'sexe'</li><li>'preusuel'</li><li>'annais'</li><li>'dpt'</li><li>'nombre'</li></ol>\n"
      ],
      "text/latex": [
       "\\begin{enumerate*}\n",
       "\\item 'sexe'\n",
       "\\item 'preusuel'\n",
       "\\item 'annais'\n",
       "\\item 'dpt'\n",
       "\\item 'nombre'\n",
       "\\end{enumerate*}\n"
      ],
      "text/markdown": [
       "1. 'sexe'\n",
       "2. 'preusuel'\n",
       "3. 'annais'\n",
       "4. 'dpt'\n",
       "5. 'nombre'\n",
       "\n",
       "\n"
      ],
      "text/plain": [
       "[1] \"sexe\"     \"preusuel\" \"annais\"   \"dpt\"      \"nombre\"  "
      ]
     },
     "metadata": {},
     "output_type": "display_data"
    },
    {
     "name": "stdout",
     "output_type": "stream",
     "text": [
      "Classes ‘spec_tbl_df’, ‘tbl_df’, ‘tbl’ and 'data.frame':\t3676682 obs. of  5 variables:\n",
      " $ sexe    : num  1 1 1 1 1 1 1 1 1 1 ...\n",
      " $ preusuel: chr  \"_PRENOMS_RARES\" \"_PRENOMS_RARES\" \"_PRENOMS_RARES\" \"_PRENOMS_RARES\" ...\n",
      " $ annais  : num  1900 1900 1900 1900 1900 1900 1900 1900 1900 1900 ...\n",
      " $ dpt     : chr  \"02\" \"04\" \"05\" \"06\" ...\n",
      " $ nombre  : num  7 9 8 23 9 4 6 3 11 7 ...\n",
      " - attr(*, \"problems\")=Classes ‘tbl_df’, ‘tbl’ and 'data.frame':\t36445 obs. of  5 variables:\n",
      "  ..$ row     : int  10781 10782 10783 10784 10787 10789 10790 12190 12191 12193 ...\n",
      "  ..$ col     : chr  \"annais\" \"annais\" \"annais\" \"annais\" ...\n",
      "  ..$ expected: chr  \"a double\" \"a double\" \"a double\" \"a double\" ...\n",
      "  ..$ actual  : chr  \"XXXX\" \"XXXX\" \"XXXX\" \"XXXX\" ...\n",
      "  ..$ file    : chr  \"'dpt2019.csv'\" \"'dpt2019.csv'\" \"'dpt2019.csv'\" \"'dpt2019.csv'\" ...\n",
      " - attr(*, \"spec\")=\n",
      "  .. cols(\n",
      "  ..   sexe = \u001b[32mcol_double()\u001b[39m,\n",
      "  ..   preusuel = \u001b[31mcol_character()\u001b[39m,\n",
      "  ..   annais = \u001b[32mcol_double()\u001b[39m,\n",
      "  ..   dpt = \u001b[31mcol_character()\u001b[39m,\n",
      "  ..   nombre = \u001b[32mcol_double()\u001b[39m\n",
      "  .. )\n"
     ]
    }
   ],
   "source": [
    "nrow(FirstNames)\n",
    "names(FirstNames)\n",
    "str(FirstNames)"
   ]
  },
  {
   "cell_type": "code",
   "execution_count": 4,
   "metadata": {},
   "outputs": [
    {
     "data": {
      "text/html": [
       "<style>\n",
       ".list-inline {list-style: none; margin:0; padding: 0}\n",
       ".list-inline>li {display: inline-block}\n",
       ".list-inline>li:not(:last-child)::after {content: \"\\00b7\"; padding: 0 .5ex}\n",
       "</style>\n",
       "<ol class=list-inline><li>3676682</li><li>5</li></ol>\n"
      ],
      "text/latex": [
       "\\begin{enumerate*}\n",
       "\\item 3676682\n",
       "\\item 5\n",
       "\\end{enumerate*}\n"
      ],
      "text/markdown": [
       "1. 3676682\n",
       "2. 5\n",
       "\n",
       "\n"
      ],
      "text/plain": [
       "[1] 3676682       5"
      ]
     },
     "metadata": {},
     "output_type": "display_data"
    },
    {
     "data": {
      "text/html": [
       "5"
      ],
      "text/latex": [
       "5"
      ],
      "text/markdown": [
       "5"
      ],
      "text/plain": [
       "[1] 5"
      ]
     },
     "metadata": {},
     "output_type": "display_data"
    },
    {
     "data": {
      "text/plain": [
       "      sexe         preusuel             annais          dpt           \n",
       " Min.   :1.000   Length:3676682     Min.   :1900    Length:3676682    \n",
       " 1st Qu.:1.000   Class :character   1st Qu.:1948    Class :character  \n",
       " Median :2.000   Mode  :character   Median :1980    Mode  :character  \n",
       " Mean   :1.536                      Mean   :1973                      \n",
       " 3rd Qu.:2.000                      3rd Qu.:2002                      \n",
       " Max.   :2.000                      Max.   :2019                      \n",
       "                                    NA's   :36445                     \n",
       "     nombre       \n",
       " Min.   :   3.00  \n",
       " 1st Qu.:   4.00  \n",
       " Median :   7.00  \n",
       " Mean   :  23.36  \n",
       " 3rd Qu.:  19.00  \n",
       " Max.   :6316.00  \n",
       "                  "
      ]
     },
     "metadata": {},
     "output_type": "display_data"
    }
   ],
   "source": [
    "dim(FirstNames)\n",
    "length(FirstNames)\n",
    "summary(FirstNames)"
   ]
  },
  {
   "cell_type": "markdown",
   "metadata": {},
   "source": [
    "Since the data has some parsing failures, we will need to clean it. The problematic rows are:"
   ]
  },
  {
   "cell_type": "code",
   "execution_count": 5,
   "metadata": {},
   "outputs": [
    {
     "data": {
      "text/html": [
       "36445"
      ],
      "text/latex": [
       "36445"
      ],
      "text/markdown": [
       "36445"
      ],
      "text/plain": [
       "[1] 36445"
      ]
     },
     "metadata": {},
     "output_type": "display_data"
    },
    {
     "data": {
      "text/html": [
       "<table>\n",
       "<caption>A tibble: 6 × 5</caption>\n",
       "<thead>\n",
       "\t<tr><th scope=col>row</th><th scope=col>col</th><th scope=col>expected</th><th scope=col>actual</th><th scope=col>file</th></tr>\n",
       "\t<tr><th scope=col>&lt;int&gt;</th><th scope=col>&lt;chr&gt;</th><th scope=col>&lt;chr&gt;</th><th scope=col>&lt;chr&gt;</th><th scope=col>&lt;chr&gt;</th></tr>\n",
       "</thead>\n",
       "<tbody>\n",
       "\t<tr><td>3676661</td><td>annais</td><td>a double</td><td>XXXX</td><td>'dpt2019.csv'</td></tr>\n",
       "\t<tr><td>3676664</td><td>annais</td><td>a double</td><td>XXXX</td><td>'dpt2019.csv'</td></tr>\n",
       "\t<tr><td>3676671</td><td>annais</td><td>a double</td><td>XXXX</td><td>'dpt2019.csv'</td></tr>\n",
       "\t<tr><td>3676679</td><td>annais</td><td>a double</td><td>XXXX</td><td>'dpt2019.csv'</td></tr>\n",
       "\t<tr><td>3676681</td><td>annais</td><td>a double</td><td>XXXX</td><td>'dpt2019.csv'</td></tr>\n",
       "\t<tr><td>3676682</td><td>annais</td><td>a double</td><td>XXXX</td><td>'dpt2019.csv'</td></tr>\n",
       "</tbody>\n",
       "</table>\n"
      ],
      "text/latex": [
       "A tibble: 6 × 5\n",
       "\\begin{tabular}{lllll}\n",
       " row & col & expected & actual & file\\\\\n",
       " <int> & <chr> & <chr> & <chr> & <chr>\\\\\n",
       "\\hline\n",
       "\t 3676661 & annais & a double & XXXX & 'dpt2019.csv'\\\\\n",
       "\t 3676664 & annais & a double & XXXX & 'dpt2019.csv'\\\\\n",
       "\t 3676671 & annais & a double & XXXX & 'dpt2019.csv'\\\\\n",
       "\t 3676679 & annais & a double & XXXX & 'dpt2019.csv'\\\\\n",
       "\t 3676681 & annais & a double & XXXX & 'dpt2019.csv'\\\\\n",
       "\t 3676682 & annais & a double & XXXX & 'dpt2019.csv'\\\\\n",
       "\\end{tabular}\n"
      ],
      "text/markdown": [
       "\n",
       "A tibble: 6 × 5\n",
       "\n",
       "| row &lt;int&gt; | col &lt;chr&gt; | expected &lt;chr&gt; | actual &lt;chr&gt; | file &lt;chr&gt; |\n",
       "|---|---|---|---|---|\n",
       "| 3676661 | annais | a double | XXXX | 'dpt2019.csv' |\n",
       "| 3676664 | annais | a double | XXXX | 'dpt2019.csv' |\n",
       "| 3676671 | annais | a double | XXXX | 'dpt2019.csv' |\n",
       "| 3676679 | annais | a double | XXXX | 'dpt2019.csv' |\n",
       "| 3676681 | annais | a double | XXXX | 'dpt2019.csv' |\n",
       "| 3676682 | annais | a double | XXXX | 'dpt2019.csv' |\n",
       "\n"
      ],
      "text/plain": [
       "  row     col    expected actual file         \n",
       "1 3676661 annais a double XXXX   'dpt2019.csv'\n",
       "2 3676664 annais a double XXXX   'dpt2019.csv'\n",
       "3 3676671 annais a double XXXX   'dpt2019.csv'\n",
       "4 3676679 annais a double XXXX   'dpt2019.csv'\n",
       "5 3676681 annais a double XXXX   'dpt2019.csv'\n",
       "6 3676682 annais a double XXXX   'dpt2019.csv'"
      ]
     },
     "metadata": {},
     "output_type": "display_data"
    }
   ],
   "source": [
    "nrow(problems(FirstNames))\n",
    "tail(problems(FirstNames))"
   ]
  },
  {
   "cell_type": "markdown",
   "metadata": {},
   "source": [
    "It appears that most of the problems are linked to some missing data on the annais colomn. We will check that by combining the similar problems by colomn and actual value"
   ]
  },
  {
   "cell_type": "code",
   "execution_count": 6,
   "metadata": {},
   "outputs": [
    {
     "data": {
      "text/html": [
       "<table>\n",
       "<caption>A tibble: 1 × 2</caption>\n",
       "<thead>\n",
       "\t<tr><th scope=col>col</th><th scope=col>actual</th></tr>\n",
       "\t<tr><th scope=col>&lt;chr&gt;</th><th scope=col>&lt;chr&gt;</th></tr>\n",
       "</thead>\n",
       "<tbody>\n",
       "\t<tr><td>annais</td><td>XXXX</td></tr>\n",
       "</tbody>\n",
       "</table>\n"
      ],
      "text/latex": [
       "A tibble: 1 × 2\n",
       "\\begin{tabular}{ll}\n",
       " col & actual\\\\\n",
       " <chr> & <chr>\\\\\n",
       "\\hline\n",
       "\t annais & XXXX\\\\\n",
       "\\end{tabular}\n"
      ],
      "text/markdown": [
       "\n",
       "A tibble: 1 × 2\n",
       "\n",
       "| col &lt;chr&gt; | actual &lt;chr&gt; |\n",
       "|---|---|\n",
       "| annais | XXXX |\n",
       "\n"
      ],
      "text/plain": [
       "  col    actual\n",
       "1 annais XXXX  "
      ]
     },
     "metadata": {},
     "output_type": "display_data"
    }
   ],
   "source": [
    "unique(select(problems(FirstNames), col, actual))"
   ]
  },
  {
   "cell_type": "markdown",
   "metadata": {},
   "source": [
    "Let's remove the lines that contain a wrong year data."
   ]
  },
  {
   "cell_type": "code",
   "execution_count": 7,
   "metadata": {},
   "outputs": [
    {
     "data": {
      "text/html": [
       "3676682"
      ],
      "text/latex": [
       "3676682"
      ],
      "text/markdown": [
       "3676682"
      ],
      "text/plain": [
       "[1] 3676682"
      ]
     },
     "metadata": {},
     "output_type": "display_data"
    },
    {
     "data": {
      "text/html": [
       "3640237"
      ],
      "text/latex": [
       "3640237"
      ],
      "text/markdown": [
       "3640237"
      ],
      "text/plain": [
       "[1] 3640237"
      ]
     },
     "metadata": {},
     "output_type": "display_data"
    }
   ],
   "source": [
    "nrow(FirstNames)\n",
    "FirstNames <- subset(FirstNames, annais!=\"XXXX\")\n",
    "nrow(FirstNames)"
   ]
  },
  {
   "cell_type": "markdown",
   "metadata": {},
   "source": [
    "Now we can start the analysis of the data."
   ]
  },
  {
   "cell_type": "markdown",
   "metadata": {},
   "source": [
    "## First Name frequency"
   ]
  },
  {
   "cell_type": "markdown",
   "metadata": {},
   "source": [
    "Let's analyse the frequency of some _traditional_ name like \"Michel\""
   ]
  },
  {
   "cell_type": "code",
   "execution_count": 8,
   "metadata": {},
   "outputs": [
    {
     "data": {
      "image/png": "[encoded data removed]",
      "text/plain": [
       "plot without title"
      ]
     },
     "metadata": {
      "image/png": {
       "height": 420,
       "width": 420
      },
      "text/plain": {
       "height": 420,
       "width": 420
      }
     },
     "output_type": "display_data"
    }
   ],
   "source": [
    "library(dplyr)\n",
    "Michel <- FirstNames %>% filter(preusuel==\"MICHEL\") %>%\n",
    "        select(annais,nombre) %>%\n",
    "        group_by(annais) %>%\n",
    "        summarise(nombre = sum(nombre))\n",
    "\n",
    "ggplot(data=Michel, aes(x=annais, y=nombre)) + geom_line()"
   ]
  },
  {
   "cell_type": "markdown",
   "metadata": {},
   "source": [
    "And also analyse some more _modern_ name like \"Lina\""
   ]
  },
  {
   "cell_type": "code",
   "execution_count": 9,
   "metadata": {},
   "outputs": [
    {
     "data": {
      "image/png": "[encoded data removed]",
      "text/plain": [
       "plot without title"
      ]
     },
     "metadata": {
      "image/png": {
       "height": 420,
       "width": 420
      },
      "text/plain": {
       "height": 420,
       "width": 420
      }
     },
     "output_type": "display_data"
    }
   ],
   "source": [
    "library(dplyr)\n",
    "Lina <-  FirstNames %>% filter(preusuel==\"LINA\") %>%\n",
    "        select(annais,nombre) %>%\n",
    "        group_by(annais) %>%\n",
    "        summarise(nombre = sum(nombre))\n",
    "\n",
    "ggplot(data=Lina, aes(x=annais, y=nombre)) + geom_line()"
   ]
  },
  {
   "cell_type": "markdown",
   "metadata": {},
   "source": [
    "Now we compare the usage of those two First Names with the number of rare first names overtime."
   ]
  },
  {
   "cell_type": "code",
   "execution_count": 10,
   "metadata": {},
   "outputs": [
    {
     "data": {
      "image/png": "[encoded data removed]",
      "text/plain": [
       "plot without title"
      ]
     },
     "metadata": {
      "image/png": {
       "height": 420,
       "width": 420
      },
      "text/plain": {
       "height": 420,
       "width": 420
      }
     },
     "output_type": "display_data"
    }
   ],
   "source": [
    "Comparison <- FirstNames %>%\n",
    "              filter(preusuel == \"MICHEL\" | preusuel == \"LINA\" | preusuel == \"_PRENOMS_RARES\") %>%\n",
    "              group_by(annais, preusuel) %>%\n",
    "              summarise(nombre = sum(nombre))\n",
    "\n",
    "ggplot(data = Comparison,aes(x=annais, y=nombre, color = preusuel)) + geom_line() "
   ]
  },
  {
   "cell_type": "markdown",
   "metadata": {},
   "source": [
    "So a quick analysis of the data shows that while _traditional_ names are slowly getting forgotten, the _rare and unique names_ are getting more and more common in France."
   ]
  },
  {
   "cell_type": "markdown",
   "metadata": {},
   "source": [
    "## Popular First Names by gender"
   ]
  },
  {
   "cell_type": "markdown",
   "metadata": {},
   "source": [
    "Let's get the most popular first name for the female gender for every year."
   ]
  },
  {
   "cell_type": "code",
   "execution_count": 11,
   "metadata": {},
   "outputs": [
    {
     "data": {
      "text/html": [
       "<table>\n",
       "<caption>A grouped_df: 6 × 3</caption>\n",
       "<thead>\n",
       "\t<tr><th scope=col>preusuel</th><th scope=col>annais</th><th scope=col>nombre</th></tr>\n",
       "\t<tr><th scope=col>&lt;chr&gt;</th><th scope=col>&lt;dbl&gt;</th><th scope=col>&lt;dbl&gt;</th></tr>\n",
       "</thead>\n",
       "<tbody>\n",
       "\t<tr><td>STÉPHANIE</td><td>1976</td><td>16698</td></tr>\n",
       "\t<tr><td>STÉPHANIE</td><td>1977</td><td>15053</td></tr>\n",
       "\t<tr><td>SYLVIE   </td><td>1961</td><td>19190</td></tr>\n",
       "\t<tr><td>SYLVIE   </td><td>1962</td><td>20824</td></tr>\n",
       "\t<tr><td>SYLVIE   </td><td>1963</td><td>25669</td></tr>\n",
       "\t<tr><td>SYLVIE   </td><td>1964</td><td>27555</td></tr>\n",
       "</tbody>\n",
       "</table>\n"
      ],
      "text/latex": [
       "A grouped\\_df: 6 × 3\n",
       "\\begin{tabular}{lll}\n",
       " preusuel & annais & nombre\\\\\n",
       " <chr> & <dbl> & <dbl>\\\\\n",
       "\\hline\n",
       "\t STÉPHANIE & 1976 & 16698\\\\\n",
       "\t STÉPHANIE & 1977 & 15053\\\\\n",
       "\t SYLVIE    & 1961 & 19190\\\\\n",
       "\t SYLVIE    & 1962 & 20824\\\\\n",
       "\t SYLVIE    & 1963 & 25669\\\\\n",
       "\t SYLVIE    & 1964 & 27555\\\\\n",
       "\\end{tabular}\n"
      ],
      "text/markdown": [
       "\n",
       "A grouped_df: 6 × 3\n",
       "\n",
       "| preusuel &lt;chr&gt; | annais &lt;dbl&gt; | nombre &lt;dbl&gt; |\n",
       "|---|---|---|\n",
       "| STÉPHANIE | 1976 | 16698 |\n",
       "| STÉPHANIE | 1977 | 15053 |\n",
       "| SYLVIE    | 1961 | 19190 |\n",
       "| SYLVIE    | 1962 | 20824 |\n",
       "| SYLVIE    | 1963 | 25669 |\n",
       "| SYLVIE    | 1964 | 27555 |\n",
       "\n"
      ],
      "text/plain": [
       "  preusuel  annais nombre\n",
       "1 STÉPHANIE 1976   16698 \n",
       "2 STÉPHANIE 1977   15053 \n",
       "3 SYLVIE    1961   19190 \n",
       "4 SYLVIE    1962   20824 \n",
       "5 SYLVIE    1963   25669 \n",
       "6 SYLVIE    1964   27555 "
      ]
     },
     "metadata": {},
     "output_type": "display_data"
    }
   ],
   "source": [
    "FemaleNames = FirstNames %>%\n",
    "              filter(sexe==2) %>%\n",
    "              select(preusuel, annais, nombre) %>%\n",
    "              group_by(preusuel, annais) %>%\n",
    "              summarise(nombre = sum(nombre)) %>%\n",
    "              group_by(annais) %>%\n",
    "              top_n(1, nombre)\n",
    "\n",
    "tail(FemaleNames)"
   ]
  },
  {
   "cell_type": "markdown",
   "metadata": {},
   "source": [
    "And now do the same thing for the male gender."
   ]
  },
  {
   "cell_type": "code",
   "execution_count": 12,
   "metadata": {},
   "outputs": [
    {
     "data": {
      "text/html": [
       "<table>\n",
       "<caption>A grouped_df: 6 × 3</caption>\n",
       "<thead>\n",
       "\t<tr><th scope=col>preusuel</th><th scope=col>annais</th><th scope=col>nombre</th></tr>\n",
       "\t<tr><th scope=col>&lt;chr&gt;</th><th scope=col>&lt;dbl&gt;</th><th scope=col>&lt;dbl&gt;</th></tr>\n",
       "</thead>\n",
       "<tbody>\n",
       "\t<tr><td>SÉBASTIEN</td><td>1977</td><td>19467</td></tr>\n",
       "\t<tr><td>SÉBASTIEN</td><td>1978</td><td>19101</td></tr>\n",
       "\t<tr><td>SÉBASTIEN</td><td>1979</td><td>17502</td></tr>\n",
       "\t<tr><td>STÉPHANE </td><td>1971</td><td>23326</td></tr>\n",
       "\t<tr><td>STÉPHANE </td><td>1974</td><td>18512</td></tr>\n",
       "\t<tr><td>THIERRY  </td><td>1965</td><td>24541</td></tr>\n",
       "</tbody>\n",
       "</table>\n"
      ],
      "text/latex": [
       "A grouped\\_df: 6 × 3\n",
       "\\begin{tabular}{lll}\n",
       " preusuel & annais & nombre\\\\\n",
       " <chr> & <dbl> & <dbl>\\\\\n",
       "\\hline\n",
       "\t SÉBASTIEN & 1977 & 19467\\\\\n",
       "\t SÉBASTIEN & 1978 & 19101\\\\\n",
       "\t SÉBASTIEN & 1979 & 17502\\\\\n",
       "\t STÉPHANE  & 1971 & 23326\\\\\n",
       "\t STÉPHANE  & 1974 & 18512\\\\\n",
       "\t THIERRY   & 1965 & 24541\\\\\n",
       "\\end{tabular}\n"
      ],
      "text/markdown": [
       "\n",
       "A grouped_df: 6 × 3\n",
       "\n",
       "| preusuel &lt;chr&gt; | annais &lt;dbl&gt; | nombre &lt;dbl&gt; |\n",
       "|---|---|---|\n",
       "| SÉBASTIEN | 1977 | 19467 |\n",
       "| SÉBASTIEN | 1978 | 19101 |\n",
       "| SÉBASTIEN | 1979 | 17502 |\n",
       "| STÉPHANE  | 1971 | 23326 |\n",
       "| STÉPHANE  | 1974 | 18512 |\n",
       "| THIERRY   | 1965 | 24541 |\n",
       "\n"
      ],
      "text/plain": [
       "  preusuel  annais nombre\n",
       "1 SÉBASTIEN 1977   19467 \n",
       "2 SÉBASTIEN 1978   19101 \n",
       "3 SÉBASTIEN 1979   17502 \n",
       "4 STÉPHANE  1971   23326 \n",
       "5 STÉPHANE  1974   18512 \n",
       "6 THIERRY   1965   24541 "
      ]
     },
     "metadata": {},
     "output_type": "display_data"
    }
   ],
   "source": [
    "MaleNames = FirstNames %>%\n",
    "            filter(sexe==1) %>%\n",
    "            select(preusuel, annais, nombre) %>%\n",
    "            group_by(preusuel, annais) %>%\n",
    "            summarise(nombre = sum(nombre)) %>%\n",
    "            group_by(annais) %>%\n",
    "            top_n(1, nombre)\n",
    "\n",
    "tail(MaleNames)"
   ]
  },
  {
   "cell_type": "markdown",
   "metadata": {},
   "source": [
    "Now let's get the most popular male and female first name."
   ]
  },
  {
   "cell_type": "code",
   "execution_count": 13,
   "metadata": {},
   "outputs": [
    {
     "data": {
      "text/html": [
       "<table>\n",
       "<caption>A tibble: 1 × 1</caption>\n",
       "<thead>\n",
       "\t<tr><th scope=col>preusuel</th></tr>\n",
       "\t<tr><th scope=col>&lt;chr&gt;</th></tr>\n",
       "</thead>\n",
       "<tbody>\n",
       "\t<tr><td>MARIE</td></tr>\n",
       "</tbody>\n",
       "</table>\n"
      ],
      "text/latex": [
       "A tibble: 1 × 1\n",
       "\\begin{tabular}{l}\n",
       " preusuel\\\\\n",
       " <chr>\\\\\n",
       "\\hline\n",
       "\t MARIE\\\\\n",
       "\\end{tabular}\n"
      ],
      "text/markdown": [
       "\n",
       "A tibble: 1 × 1\n",
       "\n",
       "| preusuel &lt;chr&gt; |\n",
       "|---|\n",
       "| MARIE |\n",
       "\n"
      ],
      "text/plain": [
       "  preusuel\n",
       "1 MARIE   "
      ]
     },
     "metadata": {},
     "output_type": "display_data"
    },
    {
     "data": {
      "text/html": [
       "<table>\n",
       "<caption>A tibble: 1 × 1</caption>\n",
       "<thead>\n",
       "\t<tr><th scope=col>preusuel</th></tr>\n",
       "\t<tr><th scope=col>&lt;chr&gt;</th></tr>\n",
       "</thead>\n",
       "<tbody>\n",
       "\t<tr><td>JEAN</td></tr>\n",
       "</tbody>\n",
       "</table>\n"
      ],
      "text/latex": [
       "A tibble: 1 × 1\n",
       "\\begin{tabular}{l}\n",
       " preusuel\\\\\n",
       " <chr>\\\\\n",
       "\\hline\n",
       "\t JEAN\\\\\n",
       "\\end{tabular}\n"
      ],
      "text/markdown": [
       "\n",
       "A tibble: 1 × 1\n",
       "\n",
       "| preusuel &lt;chr&gt; |\n",
       "|---|\n",
       "| JEAN |\n",
       "\n"
      ],
      "text/plain": [
       "  preusuel\n",
       "1 JEAN    "
      ]
     },
     "metadata": {},
     "output_type": "display_data"
    }
   ],
   "source": [
    "select(top_n(summarise(group_by(FemaleNames, preusuel), nombre=sum(nombre)), 1, nombre), preusuel)\n",
    "select(top_n(summarise(group_by(MaleNames, preusuel), nombre=sum(nombre)), 1, nombre), preusuel)"
   ]
  },
  {
   "cell_type": "markdown",
   "metadata": {},
   "source": [
    "Now since we got that \"Jean\" and \"Marie\" are the most popular first names for each gender throughour the years, let's draw their frequency graph."
   ]
  },
  {
   "cell_type": "markdown",
   "metadata": {},
   "source": [
    "the first one for \"Marie\""
   ]
  },
  {
   "cell_type": "code",
   "execution_count": 14,
   "metadata": {},
   "outputs": [
    {
     "data": {
      "image/png": "[encoded data removed]",
      "text/plain": [
       "plot without title"
      ]
     },
     "metadata": {
      "image/png": {
       "height": 420,
       "width": 420
      },
      "text/plain": {
       "height": 420,
       "width": 420
      }
     },
     "output_type": "display_data"
    }
   ],
   "source": [
    "library(dplyr)\n",
    "Marie <- FirstNames %>% filter(preusuel==\"MARIE\") %>%\n",
    "        select(annais,nombre) %>%\n",
    "        group_by(annais) %>%\n",
    "        summarise(nombre = sum(nombre))\n",
    "\n",
    "ggplot(data=Marie, aes(x=annais, y=nombre)) + geom_line()"
   ]
  },
  {
   "cell_type": "markdown",
   "metadata": {},
   "source": [
    "The second one for \"Jean\""
   ]
  },
  {
   "cell_type": "code",
   "execution_count": 15,
   "metadata": {},
   "outputs": [
    {
     "data": {
      "image/png": "[encoded data removed]",
      "text/plain": [
       "plot without title"
      ]
     },
     "metadata": {
      "image/png": {
       "height": 420,
       "width": 420
      },
      "text/plain": {
       "height": 420,
       "width": 420
      }
     },
     "output_type": "display_data"
    }
   ],
   "source": [
    "library(dplyr)\n",
    "Jean <- FirstNames %>% filter(preusuel==\"JEAN\") %>%\n",
    "        select(annais,nombre) %>%\n",
    "        group_by(annais) %>%\n",
    "        summarise(nombre = sum(nombre))\n",
    "\n",
    "ggplot(data=Jean, aes(x=annais, y=nombre)) + geom_line()"
   ]
  },
  {
   "cell_type": "markdown",
   "metadata": {},
   "source": [
    "We can conclude from both graphs, altought these two names were the most popular throughout the years in France, they are quickly and drastically fading out of fashion."
   ]
  }
 ],
 "metadata": {
  "authors": [
   {
    "name": "Hamza Tamenaoul"
   }
  ],
  "kernelspec": {
   "display_name": "R",
   "language": "R",
   "name": "ir"
  },
  "language_info": {
   "codemirror_mode": "r",
   "file_extension": ".r",
   "mimetype": "text/x-r-source",
   "name": "R",
   "pygments_lexer": "r",
   "version": "3.6.3"
  }
 },
 "nbformat": 4,
 "nbformat_minor": 4
}
